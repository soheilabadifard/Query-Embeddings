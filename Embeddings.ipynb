{
 "cells": [
  {
   "cell_type": "code",
   "execution_count": 1,
   "id": "initial_id",
   "metadata": {
    "ExecuteTime": {
     "end_time": "2023-09-12T20:08:36.404622339Z",
     "start_time": "2023-09-12T20:08:32.074334722Z"
    },
    "collapsed": true
   },
   "outputs": [],
   "source": [
    "import numpy as np\n",
    "import pandas as pd\n",
    "import json\n",
    "from tqdm import tqdm\n",
    "import spacy\n",
    "from spacy_langdetect import LanguageDetector\n",
    "from spacy.language import Language\n",
    "from googletrans import Translator\n",
    "import time\n",
    "translator = Translator()"
   ]
  },
  {
   "cell_type": "code",
   "execution_count": 2,
   "id": "a9ed45f9c47b3ece",
   "metadata": {
    "ExecuteTime": {
     "end_time": "2023-09-12T20:08:45.393191572Z",
     "start_time": "2023-09-12T20:08:36.407200887Z"
    },
    "collapsed": false
   },
   "outputs": [],
   "source": [
    "nlp = spacy.load('en_core_web_trf')"
   ]
  },
  {
   "cell_type": "code",
   "execution_count": 3,
   "id": "e08bb645ae8e8e11",
   "metadata": {
    "ExecuteTime": {
     "end_time": "2023-09-12T20:08:45.411565069Z",
     "start_time": "2023-09-12T20:08:45.403795860Z"
    },
    "collapsed": false
   },
   "outputs": [
    {
     "data": {
      "text/plain": [
       "<spacy_langdetect.spacy_langdetect.LanguageDetector at 0x7f63a2f0bed0>"
      ]
     },
     "execution_count": 3,
     "metadata": {},
     "output_type": "execute_result"
    }
   ],
   "source": [
    "def get_lang_detector(nlp, name):\n",
    "    return LanguageDetector()\n",
    "Language.factory(\"language_detector\", func=get_lang_detector)\n",
    "nlp.add_pipe('language_detector', last=True)"
   ]
  },
  {
   "cell_type": "code",
   "execution_count": 4,
   "id": "d5f12cec5a1560a3",
   "metadata": {
    "ExecuteTime": {
     "end_time": "2023-09-12T20:09:26.111323466Z",
     "start_time": "2023-09-12T20:08:45.410715884Z"
    },
    "collapsed": false
   },
   "outputs": [],
   "source": [
    "nlp_it = spacy.load(\"it_core_news_lg\")\n",
    "nlp_en = spacy.load(\"en_core_web_trf\")\n",
    "nlp_ge = spacy.load(\"de_dep_news_trf\")\n",
    "nlp_fr = spacy.load(\"fr_dep_news_trf\")\n",
    "nlp_es = spacy.load(\"es_dep_news_trf\")"
   ]
  },
  {
   "cell_type": "code",
   "execution_count": 5,
   "id": "5955666f6ca4e5bc",
   "metadata": {
    "ExecuteTime": {
     "end_time": "2023-09-12T20:09:26.162878557Z",
     "start_time": "2023-09-12T20:09:26.154395769Z"
    },
    "collapsed": false
   },
   "outputs": [],
   "source": [
    "q_txt = []\n",
    "with open(\"/data/Sepehr-data/istella22/queries.test.jsonl\", \"r\") as f:\n",
    "    for line in f:\n",
    "        q_txt.append(json.loads(line))"
   ]
  },
  {
   "cell_type": "code",
   "execution_count": 6,
   "id": "edcf1c037ed97221",
   "metadata": {
    "ExecuteTime": {
     "end_time": "2023-09-12T20:09:26.163323370Z",
     "start_time": "2023-09-12T20:09:26.154672875Z"
    },
    "collapsed": false
   },
   "outputs": [],
   "source": [
    "query_text_df = pd.DataFrame(q_txt)\n",
    "query_text_np = query_text_df.values\n",
    "query_text_emb = pd.DataFrame(columns=[\"query_id\", \"query_text\", \"query_emb\", \"query_lang\"])"
   ]
  },
  {
   "cell_type": "code",
   "execution_count": 7,
   "id": "89057496192996ea",
   "metadata": {
    "ExecuteTime": {
     "end_time": "2023-09-12T20:14:43.802591092Z",
     "start_time": "2023-09-12T20:09:26.165684961Z"
    },
    "collapsed": false
   },
   "outputs": [
    {
     "name": "stderr",
     "output_type": "stream",
     "text": [
      "100%|██████████| 2198/2198 [05:17<00:00,  6.92it/s]\n"
     ]
    }
   ],
   "source": [
    "embeddings = np.zeros(300)\n",
    "for i in tqdm(range(len(query_text_np))):\n",
    "    en_embeddings = nlp_en(query_text_np[i][1]).vector\n",
    "    it_embeddings = nlp_it(query_text_np[i][1]).vector\n",
    "    ge_embeddings = nlp_ge(query_text_np[i][1]).vector\n",
    "    fr_embeddings = nlp_fr(query_text_np[i][1]).vector\n",
    "    es_embeddings = nlp_es(query_text_np[i][1]).vector\n",
    "    \n",
    "    emb_list = [en_embeddings, it_embeddings, ge_embeddings, fr_embeddings, es_embeddings]\n",
    "    #count empty embeddings\n",
    "    count = 0\n",
    "    for j in range(len(emb_list)):\n",
    "        if len(emb_list[j]) != 0:\n",
    "            count += 1\n",
    "            emb_index = j\n",
    "    if count == 1:\n",
    "        query_text_emb = pd.concat([query_text_emb, pd.DataFrame([[query_text_np[i][0], query_text_np[i][1], emb_list[emb_index], 'na']], columns=[\"query_id\", \"query_text\", \"query_emb\", \"query_lang\"])], ignore_index=True)\n",
    "    elif count > 1:\n",
    "        print(\"more than one language detected\")\n",
    "        doc = nlp(query_text_np[i][1])\n",
    "        detect_language = doc._.language['language']\n",
    "        if detect_language == 'en':\n",
    "            query_text_emb = pd.concat([query_text_emb, pd.DataFrame([[query_text_np[i][0], query_text_np[i][1], en_embeddings, 'en']], columns=[\"query_id\", \"query_text\", \"query_emb\", \"query_lang\"])], ignore_index=True)\n",
    "        elif detect_language == 'it':\n",
    "            query_text_emb = pd.concat([query_text_emb, pd.DataFrame([[query_text_np[i][0], query_text_np[i][1], it_embeddings, 'it']], columns=[\"query_id\", \"query_text\", \"query_emb\", \"query_lang\"])], ignore_index=True)\n",
    "        elif detect_language == 'de':\n",
    "            query_text_emb = pd.concat([query_text_emb, pd.DataFrame([[query_text_np[i][0], query_text_np[i][1], ge_embeddings, 'de']], columns=[\"query_id\", \"query_text\", \"query_emb\", \"query_lang\"])], ignore_index=True)\n",
    "        elif detect_language == 'fr':\n",
    "            query_text_emb = pd.concat([query_text_emb, pd.DataFrame([[query_text_np[i][0], query_text_np[i][1], fr_embeddings, 'fr']], columns=[\"query_id\", \"query_text\", \"query_emb\", \"query_lang\"])], ignore_index=True)\n",
    "        elif detect_language == 'es':\n",
    "            query_text_emb = pd.concat([query_text_emb, pd.DataFrame([[query_text_np[i][0], query_text_np[i][1], es_embeddings, 'es']], columns=[\"query_id\", \"query_text\", \"query_emb\", \"query_lang\"])], ignore_index=True)\n",
    "        else:\n",
    "            query_text_emb = pd.concat([query_text_emb, pd.DataFrame([[query_text_np[i][0], query_text_np[i][1], np.zeros(300), 'other']], columns=[\"query_id\", \"query_text\", \"query_emb\", \"query_lang\"])], ignore_index=True)\n",
    "    "
   ]
  },
  {
   "cell_type": "code",
   "execution_count": 8,
   "id": "edd82f0dcc0a0c18",
   "metadata": {
    "ExecuteTime": {
     "end_time": "2023-09-12T20:15:41.152598478Z",
     "start_time": "2023-09-12T20:15:41.086921991Z"
    },
    "collapsed": false
   },
   "outputs": [],
   "source": [
    "query_text_emb.to_pickle(\"query_text_emb.pkl\")"
   ]
  }
 ],
 "metadata": {
  "kernelspec": {
   "display_name": "Python 3",
   "language": "python",
   "name": "python3"
  },
  "language_info": {
   "codemirror_mode": {
    "name": "ipython",
    "version": 2
   },
   "file_extension": ".py",
   "mimetype": "text/x-python",
   "name": "python",
   "nbconvert_exporter": "python",
   "pygments_lexer": "ipython2",
   "version": "2.7.6"
  }
 },
 "nbformat": 4,
 "nbformat_minor": 5
}
